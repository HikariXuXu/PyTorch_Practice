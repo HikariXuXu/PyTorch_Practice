{
 "cells": [
  {
   "cell_type": "code",
   "execution_count": 1,
   "id": "7b5ecf3f",
   "metadata": {},
   "outputs": [],
   "source": [
    "import torch"
   ]
  },
  {
   "cell_type": "markdown",
   "id": "4e51b910",
   "metadata": {},
   "source": [
    "# Initializing a Tensor"
   ]
  },
  {
   "cell_type": "markdown",
   "id": "7f9e6435",
   "metadata": {},
   "source": [
    "### Directly from data"
   ]
  },
  {
   "cell_type": "code",
   "execution_count": 2,
   "id": "3ab33c4f",
   "metadata": {},
   "outputs": [
    {
     "data": {
      "text/plain": [
       "list"
      ]
     },
     "execution_count": 2,
     "metadata": {},
     "output_type": "execute_result"
    }
   ],
   "source": [
    "a = [1, 2, 3.]\n",
    "type(a)"
   ]
  },
  {
   "cell_type": "code",
   "execution_count": 3,
   "id": "b48b7885",
   "metadata": {},
   "outputs": [
    {
     "data": {
      "text/plain": [
       "tensor([1., 2., 3.])"
      ]
     },
     "execution_count": 3,
     "metadata": {},
     "output_type": "execute_result"
    }
   ],
   "source": [
    "b = torch.tensor(a)\n",
    "b"
   ]
  },
  {
   "cell_type": "code",
   "execution_count": 4,
   "id": "e0b65cc5",
   "metadata": {},
   "outputs": [
    {
     "data": {
      "text/plain": [
       "torch.Tensor"
      ]
     },
     "execution_count": 4,
     "metadata": {},
     "output_type": "execute_result"
    }
   ],
   "source": [
    "type(b)"
   ]
  },
  {
   "cell_type": "code",
   "execution_count": 5,
   "id": "a89c05f6",
   "metadata": {},
   "outputs": [
    {
     "data": {
      "text/plain": [
       "torch.float32"
      ]
     },
     "execution_count": 5,
     "metadata": {},
     "output_type": "execute_result"
    }
   ],
   "source": [
    "b.dtype"
   ]
  },
  {
   "cell_type": "markdown",
   "id": "2db6b7a6",
   "metadata": {},
   "source": [
    "### From a NumPy array"
   ]
  },
  {
   "cell_type": "code",
   "execution_count": 6,
   "id": "aa0643da",
   "metadata": {},
   "outputs": [],
   "source": [
    "import numpy as np"
   ]
  },
  {
   "cell_type": "code",
   "execution_count": 7,
   "id": "9e07e297",
   "metadata": {},
   "outputs": [
    {
     "data": {
      "text/plain": [
       "tensor([2.4876, 1.9630], dtype=torch.float64)"
      ]
     },
     "execution_count": 7,
     "metadata": {},
     "output_type": "execute_result"
    }
   ],
   "source": [
    "a = np.random.normal((2,3))\n",
    "torch.tensor(a)"
   ]
  },
  {
   "cell_type": "markdown",
   "id": "3f0dbab9",
   "metadata": {},
   "source": [
    "### From another tensor"
   ]
  },
  {
   "cell_type": "code",
   "execution_count": 8,
   "id": "5bec211c",
   "metadata": {},
   "outputs": [
    {
     "data": {
      "text/plain": [
       "tensor([2.4876, 1.9630], dtype=torch.float64)"
      ]
     },
     "execution_count": 8,
     "metadata": {},
     "output_type": "execute_result"
    }
   ],
   "source": [
    "b = torch.tensor(a)\n",
    "b"
   ]
  },
  {
   "cell_type": "code",
   "execution_count": 10,
   "id": "346049d0",
   "metadata": {},
   "outputs": [
    {
     "data": {
      "text/plain": [
       "tensor([1., 1.], dtype=torch.float64)"
      ]
     },
     "execution_count": 10,
     "metadata": {},
     "output_type": "execute_result"
    }
   ],
   "source": [
    "c = torch.ones_like(b)\n",
    "c"
   ]
  },
  {
   "cell_type": "code",
   "execution_count": 11,
   "id": "f1bce4ec",
   "metadata": {},
   "outputs": [
    {
     "data": {
      "text/plain": [
       "tensor([0., 0.], dtype=torch.float64)"
      ]
     },
     "execution_count": 11,
     "metadata": {},
     "output_type": "execute_result"
    }
   ],
   "source": [
    "c = torch.zeros_like(b)\n",
    "c"
   ]
  },
  {
   "cell_type": "code",
   "execution_count": 12,
   "id": "2bcbe64a",
   "metadata": {},
   "outputs": [
    {
     "data": {
      "text/plain": [
       "tensor([0.7400, 0.6124], dtype=torch.float64)"
      ]
     },
     "execution_count": 12,
     "metadata": {},
     "output_type": "execute_result"
    }
   ],
   "source": [
    "c = torch.rand_like(b)\n",
    "c"
   ]
  },
  {
   "cell_type": "markdown",
   "id": "06442dc8",
   "metadata": {},
   "source": [
    "### With random or constant values"
   ]
  },
  {
   "cell_type": "code",
   "execution_count": 13,
   "id": "0d77a7e3",
   "metadata": {},
   "outputs": [
    {
     "data": {
      "text/plain": [
       "tensor([[0.3477, 0.2990],\n",
       "        [0.8296, 0.2868]])"
      ]
     },
     "execution_count": 13,
     "metadata": {},
     "output_type": "execute_result"
    }
   ],
   "source": [
    "torch.rand((2,2))"
   ]
  },
  {
   "cell_type": "code",
   "execution_count": 14,
   "id": "11382223",
   "metadata": {},
   "outputs": [
    {
     "data": {
      "text/plain": [
       "tensor([[1., 1., 1.],\n",
       "        [1., 1., 1.]])"
      ]
     },
     "execution_count": 14,
     "metadata": {},
     "output_type": "execute_result"
    }
   ],
   "source": [
    "torch.ones((2,3))"
   ]
  },
  {
   "cell_type": "code",
   "execution_count": 15,
   "id": "73346ebf",
   "metadata": {},
   "outputs": [
    {
     "data": {
      "text/plain": [
       "tensor([[0., 0., 0.],\n",
       "        [0., 0., 0.]])"
      ]
     },
     "execution_count": 15,
     "metadata": {},
     "output_type": "execute_result"
    }
   ],
   "source": [
    "torch.zeros((2,3))"
   ]
  },
  {
   "cell_type": "markdown",
   "id": "42441209",
   "metadata": {},
   "source": [
    "# Attributes of a Tensor"
   ]
  },
  {
   "cell_type": "code",
   "execution_count": 16,
   "id": "85f4faa5",
   "metadata": {},
   "outputs": [],
   "source": [
    "a = torch.rand((2,2))"
   ]
  },
  {
   "cell_type": "code",
   "execution_count": 17,
   "id": "25777e98",
   "metadata": {},
   "outputs": [
    {
     "data": {
      "text/plain": [
       "torch.float32"
      ]
     },
     "execution_count": 17,
     "metadata": {},
     "output_type": "execute_result"
    }
   ],
   "source": [
    "a.dtype"
   ]
  },
  {
   "cell_type": "code",
   "execution_count": 18,
   "id": "b8fcf3c0",
   "metadata": {},
   "outputs": [
    {
     "data": {
      "text/plain": [
       "torch.Size([2, 2])"
      ]
     },
     "execution_count": 18,
     "metadata": {},
     "output_type": "execute_result"
    }
   ],
   "source": [
    "a.shape"
   ]
  },
  {
   "cell_type": "code",
   "execution_count": 19,
   "id": "59e3efd4",
   "metadata": {},
   "outputs": [
    {
     "data": {
      "text/plain": [
       "device(type='cpu')"
      ]
     },
     "execution_count": 19,
     "metadata": {},
     "output_type": "execute_result"
    }
   ],
   "source": [
    "a.device"
   ]
  },
  {
   "cell_type": "markdown",
   "id": "5a1e2498",
   "metadata": {},
   "source": [
    "# Operations on Tensors"
   ]
  },
  {
   "cell_type": "code",
   "execution_count": 20,
   "id": "deddb062",
   "metadata": {},
   "outputs": [],
   "source": [
    "# We move our tensor to the GPU if available\n",
    "if torch.cuda.is_available():\n",
    "    tensor = tensor.to('cuda')"
   ]
  },
  {
   "cell_type": "markdown",
   "id": "6c9e08d9",
   "metadata": {},
   "source": [
    "### Common operations"
   ]
  },
  {
   "cell_type": "code",
   "execution_count": 21,
   "id": "21b9d9e9",
   "metadata": {},
   "outputs": [
    {
     "data": {
      "text/plain": [
       "True"
      ]
     },
     "execution_count": 21,
     "metadata": {},
     "output_type": "execute_result"
    }
   ],
   "source": [
    "# Returns True if obj is a PyTorch tensor.\n",
    "torch.is_tensor(a)"
   ]
  },
  {
   "cell_type": "code",
   "execution_count": null,
   "id": "6d5d19e6",
   "metadata": {},
   "outputs": [],
   "source": [
    "# Returns True if the data type of input is a complex data type.\n",
    "torch.is_complex(input)\n",
    "# Returns True if the data type of input is a floating point data type.\n",
    "torch.is_floating_point(input)"
   ]
  },
  {
   "cell_type": "code",
   "execution_count": 22,
   "id": "1ef23d1a",
   "metadata": {},
   "outputs": [
    {
     "data": {
      "text/plain": [
       "True"
      ]
     },
     "execution_count": 22,
     "metadata": {},
     "output_type": "execute_result"
    }
   ],
   "source": [
    "# Returns True if the input is a single element tensor which is not equal to zero after type conversions.\n",
    "a = torch.tensor(1.0)\n",
    "torch.is_nonzero(a)"
   ]
  },
  {
   "cell_type": "code",
   "execution_count": 23,
   "id": "55c5aaea",
   "metadata": {},
   "outputs": [
    {
     "data": {
      "text/plain": [
       "False"
      ]
     },
     "execution_count": 23,
     "metadata": {},
     "output_type": "execute_result"
    }
   ],
   "source": [
    "a = torch.tensor(0)\n",
    "torch.is_nonzero(a)"
   ]
  },
  {
   "cell_type": "code",
   "execution_count": 24,
   "id": "988e9678",
   "metadata": {},
   "outputs": [
    {
     "data": {
      "text/plain": [
       "4"
      ]
     },
     "execution_count": 24,
     "metadata": {},
     "output_type": "execute_result"
    }
   ],
   "source": [
    "# Returns the total number of elements in the input tensor.\n",
    "a = torch.rand((2,2))\n",
    "torch.numel(a)"
   ]
  },
  {
   "cell_type": "code",
   "execution_count": null,
   "id": "2be24bd7",
   "metadata": {},
   "outputs": [],
   "source": [
    "# Constructs a tensor with data.\n",
    "torch.tensor()\n",
    "# Convert the data into a torch.Tensor.\n",
    "torch.as_tensor()\n",
    "# Creates a Tensor from a numpy.ndarray.\n",
    "torch.from_numpy()"
   ]
  },
  {
   "cell_type": "code",
   "execution_count": 25,
   "id": "576ee61e",
   "metadata": {},
   "outputs": [
    {
     "data": {
      "text/plain": [
       "tensor([[0., 0., 0., 0., 0.],\n",
       "        [0., 0., 0., 0., 0.],\n",
       "        [0., 0., 0., 0., 0.],\n",
       "        [0., 0., 0., 0., 0.],\n",
       "        [0., 0., 0., 0., 0.]])"
      ]
     },
     "execution_count": 25,
     "metadata": {},
     "output_type": "execute_result"
    }
   ],
   "source": [
    "# Returns a tensor filled with the scalar value 0, with the shape defined by the variable argument size.\n",
    "torch.zeros((5,5))"
   ]
  },
  {
   "cell_type": "code",
   "execution_count": 26,
   "id": "88871741",
   "metadata": {},
   "outputs": [
    {
     "data": {
      "text/plain": [
       "tensor([[0, 0, 0, 0, 0],\n",
       "        [0, 0, 0, 0, 0],\n",
       "        [0, 0, 0, 0, 0],\n",
       "        [0, 0, 0, 0, 0],\n",
       "        [0, 0, 0, 0, 0]], dtype=torch.int32)"
      ]
     },
     "execution_count": 26,
     "metadata": {},
     "output_type": "execute_result"
    }
   ],
   "source": [
    "torch.zeros((5,5), dtype = torch.int32)"
   ]
  },
  {
   "cell_type": "code",
   "execution_count": null,
   "id": "ebc6e26e",
   "metadata": {},
   "outputs": [],
   "source": [
    "# Returns a tensor filled with the scalar value 0, with the same size as input.\n",
    "torch.zeros_like()"
   ]
  },
  {
   "cell_type": "code",
   "execution_count": null,
   "id": "db58f181",
   "metadata": {},
   "outputs": [],
   "source": [
    "# Returns a tensor filled with the scalar value 1, with the shape defined by the variable argument size.\n",
    "torch.ones()\n",
    "# Returns a tensor filled with the scalar value 1, with the same size as input.\n",
    "torch.ones_like()"
   ]
  },
  {
   "cell_type": "code",
   "execution_count": 27,
   "id": "787279cd",
   "metadata": {},
   "outputs": [
    {
     "data": {
      "text/plain": [
       "tensor([0, 1, 2, 3, 4])"
      ]
     },
     "execution_count": 27,
     "metadata": {},
     "output_type": "execute_result"
    }
   ],
   "source": [
    "# Returns a 1-D tensor of size [(end-start)/step] with values from the interval [start, end) taken with common difference step \n",
    "# beginning from start.\n",
    "torch.arange(5)"
   ]
  },
  {
   "cell_type": "code",
   "execution_count": 28,
   "id": "deefc29a",
   "metadata": {},
   "outputs": [
    {
     "data": {
      "text/plain": [
       "tensor([0, 2, 4])"
      ]
     },
     "execution_count": 28,
     "metadata": {},
     "output_type": "execute_result"
    }
   ],
   "source": [
    "torch.arange(0,5,2)"
   ]
  },
  {
   "cell_type": "code",
   "execution_count": 30,
   "id": "a8b597d0",
   "metadata": {},
   "outputs": [
    {
     "name": "stderr",
     "output_type": "stream",
     "text": [
      "D:\\Anaconda3\\envs\\pytorch\\lib\\site-packages\\ipykernel_launcher.py:2: UserWarning: torch.range is deprecated and will be removed in a future release because its behavior is inconsistent with Python's range builtin. Instead, use torch.arange, which produces values in [start, end).\n",
      "  \n"
     ]
    },
    {
     "data": {
      "text/plain": [
       "tensor([0., 1., 2., 3., 4., 5.])"
      ]
     },
     "execution_count": 30,
     "metadata": {},
     "output_type": "execute_result"
    }
   ],
   "source": [
    "# Returns a 1-D tensor of size [(end-start)/step]+1 with values from start to end with step step.\n",
    "torch.range(0,5)"
   ]
  },
  {
   "cell_type": "code",
   "execution_count": 31,
   "id": "5220b435",
   "metadata": {},
   "outputs": [
    {
     "name": "stdout",
     "output_type": "stream",
     "text": [
      "epoch: tensor(0)\n",
      "epoch: tensor(1)\n",
      "epoch: tensor(2)\n",
      "epoch: tensor(3)\n",
      "epoch: tensor(4)\n",
      "epoch: tensor(5)\n",
      "epoch: tensor(6)\n",
      "epoch: tensor(7)\n",
      "epoch: tensor(8)\n",
      "epoch: tensor(9)\n"
     ]
    }
   ],
   "source": [
    "for i in torch.arange(10):\n",
    "    print(\"epoch:\", i)"
   ]
  },
  {
   "cell_type": "code",
   "execution_count": null,
   "id": "8406cb4f",
   "metadata": {},
   "outputs": [],
   "source": [
    "# Creates a one-dimensional tensor of size steps whose values are evenly spaced from start to end, inclusive.\n",
    "torch.linspace()\n",
    "# Creates a one-dimensional tensor of size steps whose values are evenly spaced from base^start to base^end, inclusive, \n",
    "# on a logarithmic scale with base base.\n",
    "torch.logspace()"
   ]
  },
  {
   "cell_type": "code",
   "execution_count": 32,
   "id": "72a27ef6",
   "metadata": {},
   "outputs": [
    {
     "data": {
      "text/plain": [
       "tensor([[1., 0., 0.],\n",
       "        [0., 1., 0.],\n",
       "        [0., 0., 1.]])"
      ]
     },
     "execution_count": 32,
     "metadata": {},
     "output_type": "execute_result"
    }
   ],
   "source": [
    "# Returns a 2-D tensor with ones on the diagonal and zeros elsewhere.\n",
    "torch.eye(3)"
   ]
  },
  {
   "cell_type": "code",
   "execution_count": 33,
   "id": "e14bb92b",
   "metadata": {},
   "outputs": [
    {
     "data": {
      "text/plain": [
       "tensor([[5, 5],\n",
       "        [5, 5]])"
      ]
     },
     "execution_count": 33,
     "metadata": {},
     "output_type": "execute_result"
    }
   ],
   "source": [
    "# Creates a tensor of size size filled with fill_value.\n",
    "torch.full((2,2), 5)"
   ]
  },
  {
   "cell_type": "code",
   "execution_count": null,
   "id": "d8a10d72",
   "metadata": {},
   "outputs": [],
   "source": [
    "# Returns a tensor with the same size as input filled with full_value.\n",
    "torch.full_like()"
   ]
  },
  {
   "cell_type": "code",
   "execution_count": 34,
   "id": "2e88567f",
   "metadata": {},
   "outputs": [
    {
     "data": {
      "text/plain": [
       "tensor([[0.3922, 0.4761, 0.9090, 0.5322, 0.9804],\n",
       "        [0.9360, 0.7350, 0.4371, 0.7326, 0.6727]])"
      ]
     },
     "execution_count": 34,
     "metadata": {},
     "output_type": "execute_result"
    }
   ],
   "source": [
    "# Concatenates the givensequence of seq tensors in the given dimension.\n",
    "a = torch.rand((2,2))\n",
    "b = torch.rand((2,3))\n",
    "torch.cat([a,b], dim = 1)"
   ]
  },
  {
   "cell_type": "code",
   "execution_count": 35,
   "id": "dd4fc864",
   "metadata": {},
   "outputs": [
    {
     "data": {
      "text/plain": [
       "tensor([[0.9257, 0.4181],\n",
       "        [0.4269, 0.0657],\n",
       "        [0.5864, 0.4321],\n",
       "        [0.7378, 0.8758],\n",
       "        [0.1813, 0.1989]])"
      ]
     },
     "execution_count": 35,
     "metadata": {},
     "output_type": "execute_result"
    }
   ],
   "source": [
    "a = torch.rand((2,2))\n",
    "b = torch.rand((3,2))\n",
    "torch.cat([a,b], dim = 0)"
   ]
  },
  {
   "cell_type": "code",
   "execution_count": null,
   "id": "16b56a51",
   "metadata": {},
   "outputs": [],
   "source": [
    "# Splits a tensor into a specific number of chunks. Each chunk is a view of the input tensor.\n"
   ]
  }
 ],
 "metadata": {
  "kernelspec": {
   "display_name": "Python 3 (ipykernel)",
   "language": "python",
   "name": "python3"
  },
  "language_info": {
   "codemirror_mode": {
    "name": "ipython",
    "version": 3
   },
   "file_extension": ".py",
   "mimetype": "text/x-python",
   "name": "python",
   "nbconvert_exporter": "python",
   "pygments_lexer": "ipython3",
   "version": "3.7.7"
  }
 },
 "nbformat": 4,
 "nbformat_minor": 5
}
