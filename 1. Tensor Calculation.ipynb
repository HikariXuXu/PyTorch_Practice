{
 "cells": [
  {
   "cell_type": "code",
   "execution_count": 1,
   "id": "7b5ecf3f",
   "metadata": {},
   "outputs": [],
   "source": [
    "import torch"
   ]
  },
  {
   "cell_type": "markdown",
   "id": "4e51b910",
   "metadata": {},
   "source": [
    "# Initializing a Tensor"
   ]
  },
  {
   "cell_type": "markdown",
   "id": "7f9e6435",
   "metadata": {},
   "source": [
    "### Directly from data"
   ]
  },
  {
   "cell_type": "code",
   "execution_count": 2,
   "id": "3ab33c4f",
   "metadata": {},
   "outputs": [
    {
     "data": {
      "text/plain": [
       "list"
      ]
     },
     "execution_count": 2,
     "metadata": {},
     "output_type": "execute_result"
    }
   ],
   "source": [
    "a = [1, 2, 3.]\n",
    "type(a)"
   ]
  },
  {
   "cell_type": "code",
   "execution_count": 3,
   "id": "b48b7885",
   "metadata": {},
   "outputs": [
    {
     "data": {
      "text/plain": [
       "tensor([1., 2., 3.])"
      ]
     },
     "execution_count": 3,
     "metadata": {},
     "output_type": "execute_result"
    }
   ],
   "source": [
    "b = torch.tensor(a)\n",
    "b"
   ]
  },
  {
   "cell_type": "code",
   "execution_count": 4,
   "id": "e0b65cc5",
   "metadata": {},
   "outputs": [
    {
     "data": {
      "text/plain": [
       "torch.Tensor"
      ]
     },
     "execution_count": 4,
     "metadata": {},
     "output_type": "execute_result"
    }
   ],
   "source": [
    "type(b)"
   ]
  },
  {
   "cell_type": "code",
   "execution_count": 5,
   "id": "a89c05f6",
   "metadata": {},
   "outputs": [
    {
     "data": {
      "text/plain": [
       "torch.float32"
      ]
     },
     "execution_count": 5,
     "metadata": {},
     "output_type": "execute_result"
    }
   ],
   "source": [
    "b.dtype"
   ]
  },
  {
   "cell_type": "markdown",
   "id": "2db6b7a6",
   "metadata": {},
   "source": [
    "### From a NumPy array"
   ]
  },
  {
   "cell_type": "code",
   "execution_count": 6,
   "id": "aa0643da",
   "metadata": {},
   "outputs": [],
   "source": [
    "import numpy as np"
   ]
  },
  {
   "cell_type": "code",
   "execution_count": 7,
   "id": "9e07e297",
   "metadata": {},
   "outputs": [
    {
     "data": {
      "text/plain": [
       "tensor([1.6818, 3.7554], dtype=torch.float64)"
      ]
     },
     "execution_count": 7,
     "metadata": {},
     "output_type": "execute_result"
    }
   ],
   "source": [
    "a = np.random.normal((2,3))\n",
    "torch.tensor(a)"
   ]
  },
  {
   "cell_type": "markdown",
   "id": "3f0dbab9",
   "metadata": {},
   "source": [
    "### From another tensor"
   ]
  },
  {
   "cell_type": "code",
   "execution_count": 8,
   "id": "5bec211c",
   "metadata": {},
   "outputs": [
    {
     "data": {
      "text/plain": [
       "tensor([1.6818, 3.7554], dtype=torch.float64)"
      ]
     },
     "execution_count": 8,
     "metadata": {},
     "output_type": "execute_result"
    }
   ],
   "source": [
    "b = torch.tensor(a)\n",
    "b"
   ]
  },
  {
   "cell_type": "code",
   "execution_count": 9,
   "id": "346049d0",
   "metadata": {},
   "outputs": [
    {
     "data": {
      "text/plain": [
       "tensor([1., 1.], dtype=torch.float64)"
      ]
     },
     "execution_count": 9,
     "metadata": {},
     "output_type": "execute_result"
    }
   ],
   "source": [
    "c = torch.ones_like(b)\n",
    "c"
   ]
  },
  {
   "cell_type": "code",
   "execution_count": 10,
   "id": "f1bce4ec",
   "metadata": {},
   "outputs": [
    {
     "data": {
      "text/plain": [
       "tensor([0., 0.], dtype=torch.float64)"
      ]
     },
     "execution_count": 10,
     "metadata": {},
     "output_type": "execute_result"
    }
   ],
   "source": [
    "c = torch.zeros_like(b)\n",
    "c"
   ]
  },
  {
   "cell_type": "code",
   "execution_count": 11,
   "id": "2bcbe64a",
   "metadata": {},
   "outputs": [
    {
     "data": {
      "text/plain": [
       "tensor([0.4151, 0.5529], dtype=torch.float64)"
      ]
     },
     "execution_count": 11,
     "metadata": {},
     "output_type": "execute_result"
    }
   ],
   "source": [
    "c = torch.rand_like(b)\n",
    "c"
   ]
  },
  {
   "cell_type": "markdown",
   "id": "06442dc8",
   "metadata": {},
   "source": [
    "### With random or constant values"
   ]
  },
  {
   "cell_type": "code",
   "execution_count": 12,
   "id": "0d77a7e3",
   "metadata": {},
   "outputs": [
    {
     "data": {
      "text/plain": [
       "tensor([[0.8619, 0.1921],\n",
       "        [0.9098, 0.1931]])"
      ]
     },
     "execution_count": 12,
     "metadata": {},
     "output_type": "execute_result"
    }
   ],
   "source": [
    "torch.rand((2,2))"
   ]
  },
  {
   "cell_type": "code",
   "execution_count": 13,
   "id": "11382223",
   "metadata": {},
   "outputs": [
    {
     "data": {
      "text/plain": [
       "tensor([[1., 1., 1.],\n",
       "        [1., 1., 1.]])"
      ]
     },
     "execution_count": 13,
     "metadata": {},
     "output_type": "execute_result"
    }
   ],
   "source": [
    "torch.ones((2,3))"
   ]
  },
  {
   "cell_type": "code",
   "execution_count": 14,
   "id": "73346ebf",
   "metadata": {},
   "outputs": [
    {
     "data": {
      "text/plain": [
       "tensor([[0., 0., 0.],\n",
       "        [0., 0., 0.]])"
      ]
     },
     "execution_count": 14,
     "metadata": {},
     "output_type": "execute_result"
    }
   ],
   "source": [
    "torch.zeros((2,3))"
   ]
  },
  {
   "cell_type": "markdown",
   "id": "42441209",
   "metadata": {},
   "source": [
    "# Attributes of a Tensor"
   ]
  },
  {
   "cell_type": "code",
   "execution_count": 15,
   "id": "85f4faa5",
   "metadata": {},
   "outputs": [],
   "source": [
    "a = torch.rand((2,2))"
   ]
  },
  {
   "cell_type": "code",
   "execution_count": 16,
   "id": "25777e98",
   "metadata": {},
   "outputs": [
    {
     "data": {
      "text/plain": [
       "torch.float32"
      ]
     },
     "execution_count": 16,
     "metadata": {},
     "output_type": "execute_result"
    }
   ],
   "source": [
    "a.dtype"
   ]
  },
  {
   "cell_type": "code",
   "execution_count": 17,
   "id": "b8fcf3c0",
   "metadata": {},
   "outputs": [
    {
     "data": {
      "text/plain": [
       "torch.Size([2, 2])"
      ]
     },
     "execution_count": 17,
     "metadata": {},
     "output_type": "execute_result"
    }
   ],
   "source": [
    "a.shape"
   ]
  },
  {
   "cell_type": "code",
   "execution_count": 18,
   "id": "59e3efd4",
   "metadata": {},
   "outputs": [
    {
     "data": {
      "text/plain": [
       "device(type='cpu')"
      ]
     },
     "execution_count": 18,
     "metadata": {},
     "output_type": "execute_result"
    }
   ],
   "source": [
    "a.device"
   ]
  },
  {
   "cell_type": "markdown",
   "id": "5a1e2498",
   "metadata": {},
   "source": [
    "# Operations on Tensors"
   ]
  },
  {
   "cell_type": "code",
   "execution_count": 19,
   "id": "deddb062",
   "metadata": {},
   "outputs": [],
   "source": [
    "# We move our tensor to the GPU if available\n",
    "if torch.cuda.is_available():\n",
    "    tensor = tensor.to('cuda')"
   ]
  },
  {
   "cell_type": "markdown",
   "id": "6c9e08d9",
   "metadata": {},
   "source": [
    "### Common operations"
   ]
  },
  {
   "cell_type": "code",
   "execution_count": 20,
   "id": "21b9d9e9",
   "metadata": {},
   "outputs": [
    {
     "data": {
      "text/plain": [
       "True"
      ]
     },
     "execution_count": 20,
     "metadata": {},
     "output_type": "execute_result"
    }
   ],
   "source": [
    "# Returns True if obj is a PyTorch tensor.\n",
    "torch.is_tensor(a)"
   ]
  },
  {
   "cell_type": "code",
   "execution_count": null,
   "id": "6d5d19e6",
   "metadata": {},
   "outputs": [],
   "source": [
    "# Returns True if the data type of input is a complex data type.\n",
    "torch.is_complex(input)\n",
    "# Returns True if the data type of input is a floating point data type.\n",
    "torch.is_floating_point(input)"
   ]
  },
  {
   "cell_type": "code",
   "execution_count": 21,
   "id": "1ef23d1a",
   "metadata": {},
   "outputs": [
    {
     "data": {
      "text/plain": [
       "True"
      ]
     },
     "execution_count": 21,
     "metadata": {},
     "output_type": "execute_result"
    }
   ],
   "source": [
    "# Returns True if the input is a single element tensor which is not equal to zero after type conversions.\n",
    "a = torch.tensor(1.0)\n",
    "torch.is_nonzero(a)"
   ]
  },
  {
   "cell_type": "code",
   "execution_count": 22,
   "id": "55c5aaea",
   "metadata": {},
   "outputs": [
    {
     "data": {
      "text/plain": [
       "False"
      ]
     },
     "execution_count": 22,
     "metadata": {},
     "output_type": "execute_result"
    }
   ],
   "source": [
    "a = torch.tensor(0)\n",
    "torch.is_nonzero(a)"
   ]
  },
  {
   "cell_type": "code",
   "execution_count": 23,
   "id": "988e9678",
   "metadata": {},
   "outputs": [
    {
     "data": {
      "text/plain": [
       "4"
      ]
     },
     "execution_count": 23,
     "metadata": {},
     "output_type": "execute_result"
    }
   ],
   "source": [
    "# Returns the total number of elements in the input tensor.\n",
    "a = torch.rand((2,2))\n",
    "torch.numel(a)"
   ]
  },
  {
   "cell_type": "code",
   "execution_count": null,
   "id": "2be24bd7",
   "metadata": {},
   "outputs": [],
   "source": [
    "# Constructs a tensor with data.\n",
    "torch.tensor()\n",
    "# Convert the data into a torch.Tensor.\n",
    "torch.as_tensor()\n",
    "# Creates a Tensor from a numpy.ndarray.\n",
    "torch.from_numpy()"
   ]
  },
  {
   "cell_type": "code",
   "execution_count": 24,
   "id": "576ee61e",
   "metadata": {},
   "outputs": [
    {
     "data": {
      "text/plain": [
       "tensor([[0., 0., 0., 0., 0.],\n",
       "        [0., 0., 0., 0., 0.],\n",
       "        [0., 0., 0., 0., 0.],\n",
       "        [0., 0., 0., 0., 0.],\n",
       "        [0., 0., 0., 0., 0.]])"
      ]
     },
     "execution_count": 24,
     "metadata": {},
     "output_type": "execute_result"
    }
   ],
   "source": [
    "# Returns a tensor filled with the scalar value 0, with the shape defined by the variable argument size.\n",
    "torch.zeros((5,5))"
   ]
  },
  {
   "cell_type": "code",
   "execution_count": 25,
   "id": "88871741",
   "metadata": {},
   "outputs": [
    {
     "data": {
      "text/plain": [
       "tensor([[0, 0, 0, 0, 0],\n",
       "        [0, 0, 0, 0, 0],\n",
       "        [0, 0, 0, 0, 0],\n",
       "        [0, 0, 0, 0, 0],\n",
       "        [0, 0, 0, 0, 0]], dtype=torch.int32)"
      ]
     },
     "execution_count": 25,
     "metadata": {},
     "output_type": "execute_result"
    }
   ],
   "source": [
    "torch.zeros((5,5), dtype = torch.int32)"
   ]
  },
  {
   "cell_type": "code",
   "execution_count": null,
   "id": "ebc6e26e",
   "metadata": {},
   "outputs": [],
   "source": [
    "# Returns a tensor filled with the scalar value 0, with the same size as input.\n",
    "torch.zeros_like()"
   ]
  },
  {
   "cell_type": "code",
   "execution_count": null,
   "id": "db58f181",
   "metadata": {},
   "outputs": [],
   "source": [
    "# Returns a tensor filled with the scalar value 1, with the shape defined by the variable argument size.\n",
    "torch.ones()\n",
    "# Returns a tensor filled with the scalar value 1, with the same size as input.\n",
    "torch.ones_like()"
   ]
  },
  {
   "cell_type": "code",
   "execution_count": 26,
   "id": "787279cd",
   "metadata": {},
   "outputs": [
    {
     "data": {
      "text/plain": [
       "tensor([0, 1, 2, 3, 4])"
      ]
     },
     "execution_count": 26,
     "metadata": {},
     "output_type": "execute_result"
    }
   ],
   "source": [
    "# Returns a 1-D tensor of size [(end-start)/step] with values from the interval [start, end) taken with common difference step \n",
    "# beginning from start.\n",
    "torch.arange(5)"
   ]
  },
  {
   "cell_type": "code",
   "execution_count": 27,
   "id": "deefc29a",
   "metadata": {},
   "outputs": [
    {
     "data": {
      "text/plain": [
       "tensor([0, 2, 4])"
      ]
     },
     "execution_count": 27,
     "metadata": {},
     "output_type": "execute_result"
    }
   ],
   "source": [
    "torch.arange(0,5,2)"
   ]
  },
  {
   "cell_type": "code",
   "execution_count": 28,
   "id": "a8b597d0",
   "metadata": {},
   "outputs": [
    {
     "name": "stderr",
     "output_type": "stream",
     "text": [
      "D:\\Anaconda3\\envs\\pytorch\\lib\\site-packages\\ipykernel_launcher.py:2: UserWarning: torch.range is deprecated and will be removed in a future release because its behavior is inconsistent with Python's range builtin. Instead, use torch.arange, which produces values in [start, end).\n",
      "  \n"
     ]
    },
    {
     "data": {
      "text/plain": [
       "tensor([0., 1., 2., 3., 4., 5.])"
      ]
     },
     "execution_count": 28,
     "metadata": {},
     "output_type": "execute_result"
    }
   ],
   "source": [
    "# Returns a 1-D tensor of size [(end-start)/step]+1 with values from start to end with step step.\n",
    "torch.range(0,5)"
   ]
  },
  {
   "cell_type": "code",
   "execution_count": 29,
   "id": "5220b435",
   "metadata": {},
   "outputs": [
    {
     "name": "stdout",
     "output_type": "stream",
     "text": [
      "epoch: tensor(0)\n",
      "epoch: tensor(1)\n",
      "epoch: tensor(2)\n",
      "epoch: tensor(3)\n",
      "epoch: tensor(4)\n",
      "epoch: tensor(5)\n",
      "epoch: tensor(6)\n",
      "epoch: tensor(7)\n",
      "epoch: tensor(8)\n",
      "epoch: tensor(9)\n"
     ]
    }
   ],
   "source": [
    "for i in torch.arange(10):\n",
    "    print(\"epoch:\", i)"
   ]
  },
  {
   "cell_type": "code",
   "execution_count": null,
   "id": "8406cb4f",
   "metadata": {},
   "outputs": [],
   "source": [
    "# Creates a one-dimensional tensor of size steps whose values are evenly spaced from start to end, inclusive.\n",
    "torch.linspace()\n",
    "# Creates a one-dimensional tensor of size steps whose values are evenly spaced from base^start to base^end, inclusive, \n",
    "# on a logarithmic scale with base base.\n",
    "torch.logspace()"
   ]
  },
  {
   "cell_type": "code",
   "execution_count": 30,
   "id": "72a27ef6",
   "metadata": {},
   "outputs": [
    {
     "data": {
      "text/plain": [
       "tensor([[1., 0., 0.],\n",
       "        [0., 1., 0.],\n",
       "        [0., 0., 1.]])"
      ]
     },
     "execution_count": 30,
     "metadata": {},
     "output_type": "execute_result"
    }
   ],
   "source": [
    "# Returns a 2-D tensor with ones on the diagonal and zeros elsewhere.\n",
    "torch.eye(3)"
   ]
  },
  {
   "cell_type": "code",
   "execution_count": 31,
   "id": "e14bb92b",
   "metadata": {},
   "outputs": [
    {
     "data": {
      "text/plain": [
       "tensor([[5, 5],\n",
       "        [5, 5]])"
      ]
     },
     "execution_count": 31,
     "metadata": {},
     "output_type": "execute_result"
    }
   ],
   "source": [
    "# Creates a tensor of size size filled with fill_value.\n",
    "torch.full((2,2), 5)"
   ]
  },
  {
   "cell_type": "code",
   "execution_count": null,
   "id": "d8a10d72",
   "metadata": {},
   "outputs": [],
   "source": [
    "# Returns a tensor with the same size as input filled with full_value.\n",
    "torch.full_like()"
   ]
  },
  {
   "cell_type": "code",
   "execution_count": 32,
   "id": "2e88567f",
   "metadata": {},
   "outputs": [
    {
     "data": {
      "text/plain": [
       "tensor([[0.2401, 0.3085, 0.4874, 0.6228, 0.3093],\n",
       "        [0.8638, 0.0114, 0.7772, 0.3000, 0.5600]])"
      ]
     },
     "execution_count": 32,
     "metadata": {},
     "output_type": "execute_result"
    }
   ],
   "source": [
    "# Concatenates the givensequence of seq tensors in the given dimension.\n",
    "a = torch.rand((2,2))\n",
    "b = torch.rand((2,3))\n",
    "torch.cat([a,b], dim = 1)"
   ]
  },
  {
   "cell_type": "code",
   "execution_count": 33,
   "id": "dd4fc864",
   "metadata": {},
   "outputs": [
    {
     "data": {
      "text/plain": [
       "tensor([[0.6033, 0.1184],\n",
       "        [0.0782, 0.4179],\n",
       "        [0.2906, 0.9037],\n",
       "        [0.7558, 0.7895],\n",
       "        [0.3575, 0.6883]])"
      ]
     },
     "execution_count": 33,
     "metadata": {},
     "output_type": "execute_result"
    }
   ],
   "source": [
    "a = torch.rand((2,2))\n",
    "b = torch.rand((3,2))\n",
    "torch.cat([a,b], dim = 0)"
   ]
  },
  {
   "cell_type": "code",
   "execution_count": 34,
   "id": "16b56a51",
   "metadata": {},
   "outputs": [
    {
     "data": {
      "text/plain": [
       "tensor([[0.6687, 0.8930],\n",
       "        [0.0348, 0.6988],\n",
       "        [0.6316, 0.2493]])"
      ]
     },
     "execution_count": 34,
     "metadata": {},
     "output_type": "execute_result"
    }
   ],
   "source": [
    "# Splits a tensor into a specific number of chunks. Each chunk is a view of the input tensor.\n",
    "b = torch.rand((3,2))\n",
    "b"
   ]
  },
  {
   "cell_type": "code",
   "execution_count": 35,
   "id": "a1585d02",
   "metadata": {},
   "outputs": [
    {
     "data": {
      "text/plain": [
       "(tensor([[0.6687, 0.8930],\n",
       "         [0.0348, 0.6988]]),\n",
       " tensor([[0.6316, 0.2493]]))"
      ]
     },
     "execution_count": 35,
     "metadata": {},
     "output_type": "execute_result"
    }
   ],
   "source": [
    "torch.chunk(b, chunks = 2)"
   ]
  },
  {
   "cell_type": "code",
   "execution_count": 36,
   "id": "77e24aff",
   "metadata": {},
   "outputs": [
    {
     "data": {
      "text/plain": [
       "tensor([[0.6687, 0.8930],\n",
       "        [0.0348, 0.6988]])"
      ]
     },
     "execution_count": 36,
     "metadata": {},
     "output_type": "execute_result"
    }
   ],
   "source": [
    "c, d = torch.chunk(b, chunks = 2)\n",
    "c"
   ]
  },
  {
   "cell_type": "code",
   "execution_count": 37,
   "id": "015cc195",
   "metadata": {},
   "outputs": [
    {
     "data": {
      "text/plain": [
       "tensor([[0.6316, 0.2493]])"
      ]
     },
     "execution_count": 37,
     "metadata": {},
     "output_type": "execute_result"
    }
   ],
   "source": [
    "d"
   ]
  },
  {
   "cell_type": "code",
   "execution_count": 38,
   "id": "c6e00a52",
   "metadata": {},
   "outputs": [
    {
     "data": {
      "text/plain": [
       "tensor([[0.6687],\n",
       "        [0.0348],\n",
       "        [0.6316]])"
      ]
     },
     "execution_count": 38,
     "metadata": {},
     "output_type": "execute_result"
    }
   ],
   "source": [
    "c, d = torch.chunk(b, chunks = 2, dim = 1)\n",
    "c"
   ]
  },
  {
   "cell_type": "code",
   "execution_count": 39,
   "id": "3f1948e5",
   "metadata": {},
   "outputs": [
    {
     "data": {
      "text/plain": [
       "tensor([[0.8930],\n",
       "        [0.6988],\n",
       "        [0.2493]])"
      ]
     },
     "execution_count": 39,
     "metadata": {},
     "output_type": "execute_result"
    }
   ],
   "source": [
    "d"
   ]
  },
  {
   "cell_type": "code",
   "execution_count": null,
   "id": "9efc3ec0",
   "metadata": {},
   "outputs": [],
   "source": [
    "# Splits input, a tensor with three or more dimensions, into multiple tensors depthwise according to indices_or_sections.\n",
    "torch.dsplit()\n",
    "# Splits input, a tensor with three or more dimensions, into multiple tensors horizontally according to indices_or_sections.\n",
    "torch.hsplit()"
   ]
  },
  {
   "cell_type": "code",
   "execution_count": null,
   "id": "cae7ed0b",
   "metadata": {},
   "outputs": [],
   "source": [
    "# Stack tensors in sequence depthwise (along third axis).\n",
    "torch.dstack()\n",
    "# Stack tensors in sequence horizontally (column wise).\n",
    "torch.hstack()"
   ]
  },
  {
   "cell_type": "code",
   "execution_count": 40,
   "id": "fd683dac",
   "metadata": {},
   "outputs": [
    {
     "data": {
      "text/plain": [
       "tensor([[1, 1],\n",
       "        [4, 3]])"
      ]
     },
     "execution_count": 40,
     "metadata": {},
     "output_type": "execute_result"
    }
   ],
   "source": [
    "# Gathers values along an axis specified by dim.\n",
    "t = torch.tensor([[1, 2], [3, 4]])\n",
    "torch.gather(t, 1, torch.tensor([[0, 0], [1, 0]]))"
   ]
  },
  {
   "cell_type": "code",
   "execution_count": 41,
   "id": "bc82592c",
   "metadata": {},
   "outputs": [
    {
     "data": {
      "text/plain": [
       "tensor([[0., 1.],\n",
       "        [2., 3.]])"
      ]
     },
     "execution_count": 41,
     "metadata": {},
     "output_type": "execute_result"
    }
   ],
   "source": [
    "# Returns a tensor with the same data and number of elements as input, but with the specified shape.\n",
    "a = torch.arange(4.)\n",
    "torch.reshape(a, (2, 2))"
   ]
  },
  {
   "cell_type": "code",
   "execution_count": 42,
   "id": "80241895",
   "metadata": {},
   "outputs": [
    {
     "data": {
      "text/plain": [
       "tensor([0, 1, 2, 3])"
      ]
     },
     "execution_count": 42,
     "metadata": {},
     "output_type": "execute_result"
    }
   ],
   "source": [
    "b = torch.tensor([[0, 1], [2, 3]])\n",
    "torch.reshape(b, (-1,))"
   ]
  },
  {
   "cell_type": "code",
   "execution_count": 43,
   "id": "09ca33f6",
   "metadata": {},
   "outputs": [
    {
     "data": {
      "text/plain": [
       "(tensor([[0, 1],\n",
       "         [2, 3]]),\n",
       " tensor([[4, 5],\n",
       "         [6, 7]]),\n",
       " tensor([[8, 9]]))"
      ]
     },
     "execution_count": 43,
     "metadata": {},
     "output_type": "execute_result"
    }
   ],
   "source": [
    "# Splits the tensor into chunks. Each chunk is a view of the original tensor.\n",
    "a = torch.arange(10).reshape(5,2)\n",
    "torch.split(a, 2)"
   ]
  },
  {
   "cell_type": "code",
   "execution_count": 44,
   "id": "d50aa9f3",
   "metadata": {},
   "outputs": [
    {
     "data": {
      "text/plain": [
       "(tensor([[0, 1]]),\n",
       " tensor([[2, 3],\n",
       "         [4, 5],\n",
       "         [6, 7],\n",
       "         [8, 9]]))"
      ]
     },
     "execution_count": 44,
     "metadata": {},
     "output_type": "execute_result"
    }
   ],
   "source": [
    "torch.split(a, [1, 4])"
   ]
  },
  {
   "cell_type": "code",
   "execution_count": 46,
   "id": "ac5259ab",
   "metadata": {},
   "outputs": [
    {
     "data": {
      "text/plain": [
       "tensor([[[0.7157, 0.4040]],\n",
       "\n",
       "        [[0.6535, 0.2760]],\n",
       "\n",
       "        [[0.3196, 0.9965]]])"
      ]
     },
     "execution_count": 46,
     "metadata": {},
     "output_type": "execute_result"
    }
   ],
   "source": [
    "# Returns a tensor with all the dimensions of input of size 1 removed.\n",
    "b = torch.rand((3,2))\n",
    "torch.reshape(b, [3, 1, 2])"
   ]
  },
  {
   "cell_type": "code",
   "execution_count": 47,
   "id": "395c2f73",
   "metadata": {},
   "outputs": [
    {
     "data": {
      "text/plain": [
       "tensor([[0.7157, 0.4040],\n",
       "        [0.6535, 0.2760],\n",
       "        [0.3196, 0.9965]])"
      ]
     },
     "execution_count": 47,
     "metadata": {},
     "output_type": "execute_result"
    }
   ],
   "source": [
    "torch.squeeze(torch.reshape(b, [3, 1, 2]))"
   ]
  },
  {
   "cell_type": "code",
   "execution_count": 48,
   "id": "81192456",
   "metadata": {},
   "outputs": [
    {
     "data": {
      "text/plain": [
       "tensor([[[[[0.7157]],\n",
       "\n",
       "          [[0.4040]]]],\n",
       "\n",
       "\n",
       "\n",
       "        [[[[0.6535]],\n",
       "\n",
       "          [[0.2760]]]],\n",
       "\n",
       "\n",
       "\n",
       "        [[[[0.3196]],\n",
       "\n",
       "          [[0.9965]]]]])"
      ]
     },
     "execution_count": 48,
     "metadata": {},
     "output_type": "execute_result"
    }
   ],
   "source": [
    "torch.reshape(b, [3, 1, 2, 1, 1])"
   ]
  },
  {
   "cell_type": "code",
   "execution_count": 49,
   "id": "20eb1426",
   "metadata": {},
   "outputs": [
    {
     "data": {
      "text/plain": [
       "torch.Size([3, 2, 1, 1])"
      ]
     },
     "execution_count": 49,
     "metadata": {},
     "output_type": "execute_result"
    }
   ],
   "source": [
    "torch.squeeze(torch.reshape(b, [3, 1, 2, 1, 1]), dim = 1).shape"
   ]
  },
  {
   "cell_type": "code",
   "execution_count": 50,
   "id": "911b00d8",
   "metadata": {},
   "outputs": [
    {
     "data": {
      "text/plain": [
       "tensor([[[0.1510, 0.0284],\n",
       "         [0.8671, 0.4242],\n",
       "         [0.3242, 0.9166]],\n",
       "\n",
       "        [[0.5123, 0.8859],\n",
       "         [0.7947, 0.6811],\n",
       "         [0.9421, 0.1302]]])"
      ]
     },
     "execution_count": 50,
     "metadata": {},
     "output_type": "execute_result"
    }
   ],
   "source": [
    "# Concatenates a sequence of tensor along a new dimension.\n",
    "a = torch.rand((3, 2))\n",
    "b = torch.rand((3, 2))\n",
    "torch.stack([a, b])"
   ]
  },
  {
   "cell_type": "code",
   "execution_count": 51,
   "id": "cb7ca0c6",
   "metadata": {},
   "outputs": [
    {
     "data": {
      "text/plain": [
       "torch.Size([2, 3, 2])"
      ]
     },
     "execution_count": 51,
     "metadata": {},
     "output_type": "execute_result"
    }
   ],
   "source": [
    "torch.stack([a, b]).shape"
   ]
  },
  {
   "cell_type": "code",
   "execution_count": 52,
   "id": "8d257e6c",
   "metadata": {},
   "outputs": [
    {
     "data": {
      "text/plain": [
       "torch.Size([3, 2, 2])"
      ]
     },
     "execution_count": 52,
     "metadata": {},
     "output_type": "execute_result"
    }
   ],
   "source": [
    "torch.stack([a, b], dim = 1).shape"
   ]
  },
  {
   "cell_type": "code",
   "execution_count": 53,
   "id": "aa93835f",
   "metadata": {},
   "outputs": [
    {
     "data": {
      "text/plain": [
       "tensor([4, 5, 8])"
      ]
     },
     "execution_count": 53,
     "metadata": {},
     "output_type": "execute_result"
    }
   ],
   "source": [
    "# Returns a new tensor with the elements of input at the given indices.\n",
    "a = torch.tensor([[4, 3, 5], [6, 7, 8]])\n",
    "torch.take(a, torch.tensor([0, 2, 5]))"
   ]
  },
  {
   "cell_type": "code",
   "execution_count": 54,
   "id": "db996eb7",
   "metadata": {},
   "outputs": [
    {
     "data": {
      "text/plain": [
       "tensor([1, 2, 3, 1, 2, 3])"
      ]
     },
     "execution_count": 54,
     "metadata": {},
     "output_type": "execute_result"
    }
   ],
   "source": [
    "# Constructs a tensor by repeating the elements of input.\n",
    "a = torch.tensor([1, 2, 3])\n",
    "a.tile((2,))"
   ]
  },
  {
   "cell_type": "code",
   "execution_count": 55,
   "id": "af0df60e",
   "metadata": {},
   "outputs": [
    {
     "data": {
      "text/plain": [
       "tensor([[1, 2, 1, 2],\n",
       "        [3, 4, 3, 4],\n",
       "        [1, 2, 1, 2],\n",
       "        [3, 4, 3, 4]])"
      ]
     },
     "execution_count": 55,
     "metadata": {},
     "output_type": "execute_result"
    }
   ],
   "source": [
    "b = torch.tensor([[1, 2], [3, 4]])\n",
    "torch.tile(b, (2, 2))"
   ]
  },
  {
   "cell_type": "code",
   "execution_count": 56,
   "id": "8d66e98d",
   "metadata": {},
   "outputs": [
    {
     "data": {
      "text/plain": [
       "tensor([[0.2425, 0.6127, 0.7295, 0.5862],\n",
       "        [0.5661, 0.1291, 0.0928, 0.0497],\n",
       "        [0.5581, 0.3105, 0.6799, 0.8418]])"
      ]
     },
     "execution_count": 56,
     "metadata": {},
     "output_type": "execute_result"
    }
   ],
   "source": [
    "# Returns a tensor that is a transposed version of input.\n",
    "a = torch.rand((4, 3))\n",
    "torch.transpose(a, 0, 1)"
   ]
  },
  {
   "cell_type": "code",
   "execution_count": 57,
   "id": "c05e3ab9",
   "metadata": {},
   "outputs": [
    {
     "data": {
      "text/plain": [
       "(tensor([0.2425, 0.5661, 0.5581]),\n",
       " tensor([0.6127, 0.1291, 0.3105]),\n",
       " tensor([0.7295, 0.0928, 0.6799]),\n",
       " tensor([0.5862, 0.0497, 0.8418]))"
      ]
     },
     "execution_count": 57,
     "metadata": {},
     "output_type": "execute_result"
    }
   ],
   "source": [
    "# Removes a tensor dimension.\n",
    "torch.unbind(a)"
   ]
  },
  {
   "cell_type": "code",
   "execution_count": 58,
   "id": "4c2519d7",
   "metadata": {},
   "outputs": [
    {
     "data": {
      "text/plain": [
       "(tensor([0.2425, 0.6127, 0.7295, 0.5862]),\n",
       " tensor([0.5661, 0.1291, 0.0928, 0.0497]),\n",
       " tensor([0.5581, 0.3105, 0.6799, 0.8418]))"
      ]
     },
     "execution_count": 58,
     "metadata": {},
     "output_type": "execute_result"
    }
   ],
   "source": [
    "torch.unbind(a, dim = 1)"
   ]
  },
  {
   "cell_type": "code",
   "execution_count": 59,
   "id": "118e027b",
   "metadata": {},
   "outputs": [
    {
     "data": {
      "text/plain": [
       "tensor([[[0.2425, 0.5661, 0.5581],\n",
       "         [0.6127, 0.1291, 0.3105],\n",
       "         [0.7295, 0.0928, 0.6799],\n",
       "         [0.5862, 0.0497, 0.8418]]])"
      ]
     },
     "execution_count": 59,
     "metadata": {},
     "output_type": "execute_result"
    }
   ],
   "source": [
    "# Returns a new tensor with a dimension of size one inserted at the specified position.\n",
    "torch.unsqueeze(a, dim = 0)"
   ]
  },
  {
   "cell_type": "code",
   "execution_count": 63,
   "id": "e041ba5a",
   "metadata": {},
   "outputs": [
    {
     "data": {
      "text/plain": [
       "tensor([[ 0.5827,  1.0006],\n",
       "        [-2.2456,  0.1847],\n",
       "        [ 0.6568,  0.5227]])"
      ]
     },
     "execution_count": 63,
     "metadata": {},
     "output_type": "execute_result"
    }
   ],
   "source": [
    "# Returns a tensor of elements selected from either x or y, depending on condition.\n",
    "a = torch.randn(3, 2)\n",
    "b = torch.ones(3, 2)\n",
    "a"
   ]
  },
  {
   "cell_type": "code",
   "execution_count": 64,
   "id": "45b92d2f",
   "metadata": {},
   "outputs": [
    {
     "data": {
      "text/plain": [
       "tensor([[0.5827, 1.0006],\n",
       "        [1.0000, 0.1847],\n",
       "        [0.6568, 0.5227]])"
      ]
     },
     "execution_count": 64,
     "metadata": {},
     "output_type": "execute_result"
    }
   ],
   "source": [
    "torch.where(a > 0, a, b)"
   ]
  },
  {
   "cell_type": "code",
   "execution_count": null,
   "id": "e95b8095",
   "metadata": {},
   "outputs": [],
   "source": [
    "# Sets the seed for generating random numbers.\n",
    "torch.manual_seed(seed)"
   ]
  },
  {
   "cell_type": "code",
   "execution_count": null,
   "id": "30d4e52d",
   "metadata": {},
   "outputs": [],
   "source": [
    "# Draws binary random numbers (0 or 1) from a Bernoulli distribution.\n",
    "torch.bernoulli()"
   ]
  },
  {
   "cell_type": "code",
   "execution_count": null,
   "id": "aacda7fe",
   "metadata": {},
   "outputs": [],
   "source": [
    "# Returns a tensor of random numbers drawun from separate normal distributions whose mean and standard deviation are given.\n",
    "torch.normal()"
   ]
  },
  {
   "cell_type": "code",
   "execution_count": null,
   "id": "95db7a35",
   "metadata": {},
   "outputs": [],
   "source": [
    "# Returns a tensor filled with random numbers from a uniform distribution on the interval [0,1).\n",
    "torch.rand()\n",
    "# Returns a tensor filled with random integers generated uniformly between low (inclusive) and high (exclusive).\n",
    "torch.randint()\n",
    "# Returns a tensor filled with random numbers from a normal distribution with mean 0 and variance 1.\n",
    "torch.randn()"
   ]
  },
  {
   "cell_type": "code",
   "execution_count": null,
   "id": "c4e520ce",
   "metadata": {},
   "outputs": [],
   "source": [
    "# Returns a random permutation of integers from 0 to n-1.\n",
    "torch.randperm()"
   ]
  }
 ],
 "metadata": {
  "kernelspec": {
   "display_name": "Python 3 (ipykernel)",
   "language": "python",
   "name": "python3"
  },
  "language_info": {
   "codemirror_mode": {
    "name": "ipython",
    "version": 3
   },
   "file_extension": ".py",
   "mimetype": "text/x-python",
   "name": "python",
   "nbconvert_exporter": "python",
   "pygments_lexer": "ipython3",
   "version": "3.7.7"
  }
 },
 "nbformat": 4,
 "nbformat_minor": 5
}
